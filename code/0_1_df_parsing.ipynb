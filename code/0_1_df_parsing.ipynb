{
  "cells": [
    {
      "cell_type": "markdown",
      "metadata": {
        "id": "view-in-github",
        "colab_type": "text"
      },
      "source": [
        "<a href=\"https://colab.research.google.com/github/jayarnim/project-Comparative_Analysis_of_Changes_in_Influence_of_Market_Demand_Determinants/blob/main/code/0_1_df_parsing.ipynb\" target=\"_parent\"><img src=\"https://colab.research.google.com/assets/colab-badge.svg\" alt=\"Open In Colab\"/></a>"
      ]
    },
    {
      "cell_type": "code",
      "execution_count": 7,
      "metadata": {
        "colab": {
          "base_uri": "https://localhost:8080/"
        },
        "id": "ruOXMGwJpJe1",
        "outputId": "c098eca4-5341-48e0-9cc0-f88f937a3735"
      },
      "outputs": [
        {
          "output_type": "stream",
          "name": "stdout",
          "text": [
            "Drive already mounted at /content/drive; to attempt to forcibly remount, call drive.mount(\"/content/drive\", force_remount=True).\n",
            "/content/drive/MyDrive/2023-2_MachineLearning/Project\n"
          ]
        }
      ],
      "source": [
        "from google.colab import drive\n",
        "drive.mount('/content/drive')\n",
        "%cd /content/drive/MyDrive/2023-2_MachineLearning/Project/"
      ]
    },
    {
      "cell_type": "code",
      "execution_count": 2,
      "metadata": {
        "id": "cOoxA6GEpEIO"
      },
      "outputs": [],
      "source": [
        "from common import sector, data, variable\n",
        "import numpy as np\n",
        "import pandas as pd\n",
        "from tqdm import tqdm"
      ]
    },
    {
      "cell_type": "code",
      "source": [
        "import warnings\n",
        "warnings.filterwarnings('ignore')"
      ],
      "metadata": {
        "id": "mGpPJZaHiVSf"
      },
      "execution_count": null,
      "outputs": []
    },
    {
      "cell_type": "code",
      "source": [
        "df = pd.read_csv(data.PATH_DF_MERGE)\n",
        "\n",
        "df = df.dropna()\n",
        "\n",
        "all_col = set(df.columns)\n",
        "drop_col = {'업종'} | set(df.loc[:,'추정매출_비율_주중주말_주중':'추정매출_비율_연령대별_60이상'].columns) | set(df.loc[:,'추정매출_점포수':'점포현황_점포수_프랜차이즈'].columns)\n",
        "sum_col = set(df.loc[:,'추정매출_금액_주중주말_주중':'추정매출_건수_연령대별_60이상'].columns) | {'추정매출_금액', '추정매출_건수'}\n",
        "maintain_col = all_col - (drop_col | sum_col)\n",
        "\n",
        "col_sequence = [col for col in df.columns if (col in sum_col) or (col in maintain_col)]"
      ],
      "metadata": {
        "id": "DNhJMKkSMSWT"
      },
      "execution_count": 3,
      "outputs": []
    },
    {
      "cell_type": "code",
      "execution_count": 8,
      "metadata": {
        "colab": {
          "base_uri": "https://localhost:8080/"
        },
        "id": "rhdBnLnNy_7F",
        "outputId": "b89cdb41-de12-404b-a367-55a97573ba49"
      },
      "outputs": [
        {
          "output_type": "stream",
          "name": "stderr",
          "text": [
            "업종: 100%|██████████| 12/12 [1:01:42<00:00, 308.51s/it]\n"
          ]
        }
      ],
      "source": [
        "for i in tqdm(iterable = range(len(sector.CODELIST)), desc = \"업종\"):\n",
        "    result_list = []\n",
        "\n",
        "    parsed_df = df[df['업종'].isin(sector.CODELIST[i])]\n",
        "\n",
        "    selected_df = parsed_df[maintain_col | sum_col]\n",
        "\n",
        "    unique_dict = dict(selected_df[['년도','분기','상권유형','상권']].value_counts())\n",
        "    unique_list = list(unique_dict.keys())\n",
        "\n",
        "    for j in range(len(unique_list)):\n",
        "        conditions = (\n",
        "            selected_df['년도'] == unique_list[j][0]\n",
        "            ) & (\n",
        "                selected_df['분기'] == unique_list[j][1]\n",
        "                ) & (\n",
        "                    selected_df['상권유형'] == unique_list[j][2]\n",
        "                    ) & (\n",
        "                        selected_df['상권'] == unique_list[j][3]\n",
        "                        )\n",
        "\n",
        "        sum_dict = dict(selected_df[conditions][sum_col].sum())\n",
        "        maintain_dict = dict(selected_df[conditions][maintain_col].min())\n",
        "\n",
        "        result = sum_dict\n",
        "        result.update(maintain_dict)\n",
        "        result_list.append(result)\n",
        "\n",
        "    result_df = pd.DataFrame(result_list)\n",
        "    result_df = result_df[col_sequence]\n",
        "\n",
        "    result_df.to_csv(f\"data/{sector.NAMELIST[i]}.csv\", index = False)"
      ]
    }
  ],
  "metadata": {
    "colab": {
      "provenance": [],
      "authorship_tag": "ABX9TyPFh33kQ0ewvfzyNvFAff9J",
      "include_colab_link": true
    },
    "kernelspec": {
      "display_name": "Python 3",
      "name": "python3"
    },
    "language_info": {
      "name": "python"
    }
  },
  "nbformat": 4,
  "nbformat_minor": 0
}